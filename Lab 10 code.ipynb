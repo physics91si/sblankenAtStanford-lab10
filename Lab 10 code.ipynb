{
 "cells": [
  {
   "cell_type": "code",
   "execution_count": 7,
   "metadata": {
    "collapsed": false
   },
   "outputs": [
    {
     "data": {
      "text/plain": [
       "<module 'sets' from '/Users/scottblankenberg/Physics91SI/sblankenAtStanford-lab10/sets.py'>"
      ]
     },
     "execution_count": 7,
     "metadata": {},
     "output_type": "execute_result"
    }
   ],
   "source": [
    "import sets\n",
    "import importlib\n",
    "\n",
    "importlib.reload(sets)"
   ]
  },
  {
   "cell_type": "code",
   "execution_count": 13,
   "metadata": {
    "collapsed": false
   },
   "outputs": [
    {
     "name": "stdout",
     "output_type": "stream",
     "text": [
      "[1, 3]\n",
      "[1]\n",
      "1\n",
      "[1, 3]\n",
      "[3, 1, 30, 12]\n"
     ]
    }
   ],
   "source": [
    "test = sets.Set()\n",
    "test.__add__(1)\n",
    "test.__add__(3)\n",
    "test.__add__(3)\n",
    "test.__remove__(5)\n",
    "print(test)\n",
    "test.__remove__(3)\n",
    "print(test)\n",
    "print(test.__size__())\n",
    "testTwo = sets.Set()\n",
    "testTwo.__add__(3)\n",
    "testTwo.__add__(1)\n",
    "testThree = test.__union__(testTwo)\n",
    "print(testThree)\n",
    "testFour = sets.Set()\n",
    "testFour.__add__(3)\n",
    "testFour.__add__(3)\n",
    "testFour.__add__(1)\n",
    "testFour.__add__(30)\n",
    "testFour.__add__(12)\n",
    "print(testFour)\n",
    "testFive = testFour.__intersection__(testThree)\n",
    "print(testFive)"
   ]
  },
  {
   "cell_type": "code",
   "execution_count": 79,
   "metadata": {
    "collapsed": true
   },
   "outputs": [],
   "source": [
    "list.count?"
   ]
  },
  {
   "cell_type": "code",
   "execution_count": null,
   "metadata": {
    "collapsed": true
   },
   "outputs": [],
   "source": []
  }
 ],
 "metadata": {
  "kernelspec": {
   "display_name": "Python 3",
   "language": "python",
   "name": "python3"
  },
  "language_info": {
   "codemirror_mode": {
    "name": "ipython",
    "version": 3
   },
   "file_extension": ".py",
   "mimetype": "text/x-python",
   "name": "python",
   "nbconvert_exporter": "python",
   "pygments_lexer": "ipython3",
   "version": "3.5.1"
  }
 },
 "nbformat": 4,
 "nbformat_minor": 0
}
